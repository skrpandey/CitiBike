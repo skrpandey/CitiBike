{
    "metadata": {
        "language_info": {
            "file_extension": ".py", 
            "mimetype": "text/x-python", 
            "codemirror_mode": {
                "version": 2, 
                "name": "ipython"
            }, 
            "pygments_lexer": "ipython2", 
            "name": "python", 
            "version": "2.7.11", 
            "nbconvert_exporter": "python"
        }, 
        "kernelspec": {
            "display_name": "Python 2 with Spark 2.0", 
            "language": "python", 
            "name": "python2-spark20"
        }
    }, 
    "cells": [
        {
            "metadata": {
                "collapsed": true
            }, 
            "cell_type": "markdown", 
            "source": "## CitiBike json file download"
        }, 
        {
            "outputs": [], 
            "cell_type": "code", 
            "execution_count": 1, 
            "metadata": {
                "collapsed": true
            }, 
            "source": "from pyspark import SparkContext\nfrom pyspark.streaming import StreamingContext"
        }, 
        {
            "outputs": [], 
            "cell_type": "code", 
            "execution_count": 2, 
            "metadata": {
                "collapsed": true
            }, 
            "source": "from pyspark.sql import SQLContext\n# On local machine create a spark contxt\n#sc = SparkContext(appName=\"CitiBike_download\")\nsqlContext = SQLContext(sc)"
        }, 
        {
            "outputs": [], 
            "cell_type": "code", 
            "execution_count": 3, 
            "metadata": {}, 
            "source": "import requests\nimport json\nimport pandas as pd"
        }, 
        {
            "metadata": {}, 
            "cell_type": "markdown", 
            "source": "#### Step 1 : Download four files first"
        }, 
        {
            "outputs": [], 
            "cell_type": "code", 
            "execution_count": 4, 
            "metadata": {
                "collapsed": true
            }, 
            "source": "fileNameList = ['station_information','station_status','system_alerts','system_regions']  "
        }, 
        {
            "outputs": [], 
            "cell_type": "code", 
            "execution_count": 5, 
            "metadata": {
                "collapsed": true
            }, 
            "source": "# function to clean the Json\ndef jSonCleaner(strData):\n    strData = r.text[r.text.find(\"[\"):-2]\n    return strData"
        }, 
        {
            "outputs": [], 
            "cell_type": "code", 
            "execution_count": 6, 
            "metadata": {}, 
            "source": "cleanedData = []\n\nfor nfile in fileNameList:\n    #removing unwanted string from the starting of the json file and from starting    \n    #reading the json file using requests\n    r = requests.get(\"https://gbfs.citibikenyc.com/gbfs/en/\" +nfile + \".json\")\n    # correct json after cleaning\n    cleanedData.append(jSonCleaner(r.text)) "
        }, 
        {
            "outputs": [], 
            "cell_type": "code", 
            "execution_count": 39, 
            "metadata": {}, 
            "source": "pdf_station_info= pd.DataFrame(json.loads(cleanedData[0]))\npdf_station_status= pd.DataFrame(json.loads(cleanedData[1]))\npdf_system_alerts= pd.DataFrame(json.loads(cleanedData[2]))\npdf_system_regions= pd.DataFrame(json.loads(cleanedData[3]))"
        }, 
        {
            "metadata": {}, 
            "cell_type": "markdown", 
            "source": "pdf_system_alerts"
        }, 
        {
            "outputs": [
                {
                    "metadata": {}, 
                    "execution_count": 70, 
                    "data": {
                        "text/plain": "  alert_id  last_updated station_id                  summary   type\n0        6    1511872985        402  Valet service available  OTHER\n1        8    1511873002        304  Valet service available  OTHER\n2       13    1511866463       3255  Valet service available  OTHER\n3       15    1511866841       3236  Valet service available  OTHER\n4       46    1511873369        426  Valet service available  OTHER\n5       49    1511886262       3443               Valet full  OTHER\n6       58    1511873115        281  Valet service available  OTHER\n7       79    1511873136        484  Valet service available  OTHER\n8       85    1511873330       3223  Valet service available  OTHER\n9       86    1511873741        377  Valet service available  OTHER", 
                        "text/html": "<div>\n<table border=\"1\" class=\"dataframe\">\n  <thead>\n    <tr style=\"text-align: right;\">\n      <th></th>\n      <th>alert_id</th>\n      <th>last_updated</th>\n      <th>station_id</th>\n      <th>summary</th>\n      <th>type</th>\n    </tr>\n  </thead>\n  <tbody>\n    <tr>\n      <th>0</th>\n      <td>6</td>\n      <td>1511872985</td>\n      <td>402</td>\n      <td>Valet service available</td>\n      <td>OTHER</td>\n    </tr>\n    <tr>\n      <th>1</th>\n      <td>8</td>\n      <td>1511873002</td>\n      <td>304</td>\n      <td>Valet service available</td>\n      <td>OTHER</td>\n    </tr>\n    <tr>\n      <th>2</th>\n      <td>13</td>\n      <td>1511866463</td>\n      <td>3255</td>\n      <td>Valet service available</td>\n      <td>OTHER</td>\n    </tr>\n    <tr>\n      <th>3</th>\n      <td>15</td>\n      <td>1511866841</td>\n      <td>3236</td>\n      <td>Valet service available</td>\n      <td>OTHER</td>\n    </tr>\n    <tr>\n      <th>4</th>\n      <td>46</td>\n      <td>1511873369</td>\n      <td>426</td>\n      <td>Valet service available</td>\n      <td>OTHER</td>\n    </tr>\n    <tr>\n      <th>5</th>\n      <td>49</td>\n      <td>1511886262</td>\n      <td>3443</td>\n      <td>Valet full</td>\n      <td>OTHER</td>\n    </tr>\n    <tr>\n      <th>6</th>\n      <td>58</td>\n      <td>1511873115</td>\n      <td>281</td>\n      <td>Valet service available</td>\n      <td>OTHER</td>\n    </tr>\n    <tr>\n      <th>7</th>\n      <td>79</td>\n      <td>1511873136</td>\n      <td>484</td>\n      <td>Valet service available</td>\n      <td>OTHER</td>\n    </tr>\n    <tr>\n      <th>8</th>\n      <td>85</td>\n      <td>1511873330</td>\n      <td>3223</td>\n      <td>Valet service available</td>\n      <td>OTHER</td>\n    </tr>\n    <tr>\n      <th>9</th>\n      <td>86</td>\n      <td>1511873741</td>\n      <td>377</td>\n      <td>Valet service available</td>\n      <td>OTHER</td>\n    </tr>\n  </tbody>\n</table>\n</div>"
                    }, 
                    "output_type": "execute_result"
                }
            ], 
            "cell_type": "code", 
            "execution_count": 70, 
            "metadata": {}, 
            "source": "columns = ['alert_id','last_updated', 'station_id','summary','type']\nnew_pdf_system_alerts = pd.DataFrame(columns=columns)\nfor index, row in pdf_system_alerts.iterrows():\n    if len(row.station_ids)==1:\n        new_pdf_system_alerts.loc[len(new_pdf_system_alerts)]=[row['alert_id'],row['last_updated'],row['station_ids'][0],row['summary'],row['type']] \n    else:\n        for val in row.station_ids[:]:\n            new_pdf_system_alerts.loc[len(new_pdf_system_alerts)]=[row['alert_id'],row['last_updated'],val,row['summary'],row['type']]\n        \nnew_pdf_system_alerts"
        }, 
        {
            "outputs": [], 
            "cell_type": "code", 
            "execution_count": null, 
            "metadata": {}, 
            "source": ""
        }, 
        {
            "outputs": [
                {
                    "metadata": {}, 
                    "execution_count": 12, 
                    "data": {
                        "text/plain": "0"
                    }, 
                    "output_type": "execute_result"
                }
            ], 
            "cell_type": "code", 
            "execution_count": 12, 
            "metadata": {}, 
            "source": "len(pdf_system_alerts)"
        }, 
        {
            "outputs": [], 
            "cell_type": "code", 
            "execution_count": 13, 
            "metadata": {}, 
            "source": "\n#Below code works with spark 2.0, it may fail with spark 2.1\nsqldf_station_info=sqlContext.createDataFrame(pdf_station_info)   \nsqldf_station_status=sqlContext.createDataFrame(pdf_station_status)\ntry:\n    sqldf_system_alerts=sqlContext.createDataFrame(new_pdf_system_alerts)\nexcept:\n    sqldf_system_alerts=[]\n    \ntry:\n    sqldf_system_regions=sqlContext.createDataFrame(pdf_system_regions)\nexcept:\n    sqldf_system_regions=[]\n    \n    \n\n    \n    \n    "
        }, 
        {
            "outputs": [], 
            "cell_type": "code", 
            "execution_count": null, 
            "metadata": {
                "collapsed": true
            }, 
            "source": ""
        }, 
        {
            "outputs": [], 
            "cell_type": "code", 
            "execution_count": null, 
            "metadata": {
                "collapsed": true
            }, 
            "source": ""
        }
    ], 
    "nbformat": 4, 
    "nbformat_minor": 1
}